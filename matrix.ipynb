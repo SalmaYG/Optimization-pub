{
 "cells": [
  {
   "cell_type": "code",
   "execution_count": 4,
   "metadata": {},
   "outputs": [
    {
     "name": "stdout",
     "output_type": "stream",
     "text": [
      "Gurobi Optimizer version 9.0.0 build v9.0.0rc2 (mac64)\n",
      "Optimize a model with 2 rows, 3 columns and 5 nonzeros\n",
      "Model fingerprint: 0xfe184996\n",
      "Variable types: 0 continuous, 3 integer (3 binary)\n",
      "Coefficient statistics:\n",
      "  Matrix range     [1e+00, 3e+00]\n",
      "  Objective range  [1e+00, 3e+00]\n",
      "  Bounds range     [1e+00, 1e+00]\n",
      "  RHS range        [1e+00, 4e+00]\n",
      "Found heuristic solution: objective 3.0000000\n",
      "Presolve removed 2 rows and 3 columns\n",
      "Presolve time: 0.00s\n",
      "Presolve: All rows and columns removed\n",
      "\n",
      "Explored 0 nodes (0 simplex iterations) in 0.04 seconds\n",
      "Thread count was 1 (of 4 available processors)\n",
      "\n",
      "Solution count 2: 4 \n",
      "\n",
      "Optimal solution found (tolerance 1.00e-04)\n",
      "Best objective 4.000000000000e+00, best bound 4.000000000000e+00, gap 0.0000%\n",
      "[1. 0. 1.]\n",
      "Obj: 4\n"
     ]
    }
   ],
   "source": [
    "# Matrix optimization\n",
    "# LP:\n",
    "# maximize x + y + 2z\n",
    "# s.t x + 2y + 3z <= 4\n",
    "#     x + y       >= 1\n",
    "#     x, y, z binary\n",
    "\n",
    "try:\n",
    "    import numpy as np\n",
    "    import gurobipy as gp\n",
    "    import scipy.sparse as sp\n",
    "    from gurobipy import GRB\n",
    "\n",
    "    m = gp.Model(\"Matrix\")\n",
    "\n",
    "    x = m.addMVar(shape = 3,vtype = GRB.BINARY, name = 'x')\n",
    "\n",
    "    obj = np.array([1, 2, 3])\n",
    "    m.setObjective(obj @ x, GRB.MAXIMIZE)\n",
    "\n",
    "    data = np.array([1, 2, 3, -1, -1])\n",
    "    row = np.array([0, 0, 0, 1, 1])\n",
    "    col = np.array([0,1,2,0,1])\n",
    "\n",
    "    A = sp.csr_matrix((data,(row, col)), shape = (2,3))\n",
    "\n",
    "\n",
    "    rhs = np.array([4, -1])\n",
    "\n",
    "    m.addConstr(A @ x <= rhs, name = 'c')\n",
    "    m.optimize()\n",
    "\n",
    "    print(x.X)\n",
    "    print('Obj: %g' % m.objVal)\n",
    "\n",
    "except gp.GurobiError as e:\n",
    "    print('Error code ' + str(e.errno) + \": \" + str(e))\n",
    "\n",
    "except AttributeError:\n",
    "    print('Encountered an attribute error')\n"
   ]
  },
  {
   "cell_type": "code",
   "execution_count": null,
   "metadata": {},
   "outputs": [],
   "source": []
  }
 ],
 "metadata": {
  "kernelspec": {
   "display_name": "Python 3",
   "language": "python",
   "name": "python3"
  },
  "language_info": {
   "codemirror_mode": {
    "name": "ipython",
    "version": 3
   },
   "file_extension": ".py",
   "mimetype": "text/x-python",
   "name": "python",
   "nbconvert_exporter": "python",
   "pygments_lexer": "ipython3",
   "version": "3.7.4"
  }
 },
 "nbformat": 4,
 "nbformat_minor": 2
}
