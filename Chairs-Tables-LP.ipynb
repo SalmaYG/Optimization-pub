{
 "cells": [
  {
   "cell_type": "code",
   "execution_count": 6,
   "metadata": {},
   "outputs": [
    {
     "name": "stdout",
     "output_type": "stream",
     "text": [
      "Encountered an attribute error\n"
     ]
    }
   ],
   "source": [
    "#LP:-\n",
    "# max 40(to + tp) + 15(cp + co)\n",
    "# s.t.\n",
    "#     17* to + 5 * co <= 150\n",
    "#     30* tp + 13 * cp >= 210\n",
    "#     to, tp, co, cp >=0\n",
    "#     to, tp, co, cp ∈ N\n",
    "\n",
    "import gurobipy as gb\n",
    "from gurobipy import GRB\n",
    "\n",
    "try:\n",
    "    m = gb.model(\"mip1\")\n",
    "    \n",
    "    to = m.addVar(vtype = GRB.CONTINUOUS, name = \"to\")\n",
    "    tp = m.addVar(vtype = GRB.CONTINUOUS, name = \"tp\")\n",
    "    co = m.addVar(vtype = GRB.CONTINUOUS, name = \"co\")\n",
    "    cp = m.addVar(vtype = GRB.CONTINUOUS, name = \"cp\")\n",
    "    \n",
    "    m.setObjective(40 * (to + tp) + 15 * (cp + co))\n",
    "    \n",
    "    m.addConstr(17 * to + 5 * co <= 150, \"c0\")\n",
    "    m.addConstr(30 * tp + 13 * cp >= 210, \"c1\")\n",
    "    m.addConstr(to >= 0, \"c2\")\n",
    "    m.addConstr(tp >= 0, \"c3\")\n",
    "    m.addConstr(co >= 0, \"c4\")\n",
    "    m.addConstr(cp >= 0, \"c5\")\n",
    "    \n",
    "        #optimizing the model\n",
    "    m.optimize()\n",
    "    \n",
    "    for v in m.getVars():\n",
    "        print('%s %g' % (v.varName, v.x))\n",
    "    print('obj %g' % (m.objVal))\n",
    "\n",
    "except gp.GurobiError as e:\n",
    "    print('Error code ' + str(e.errno) + ': ' + str(e))\n",
    "\n",
    "except AttributeError:\n",
    "    print('Encountered an attribute error')"
   ]
  },
  {
   "cell_type": "code",
   "execution_count": null,
   "metadata": {},
   "outputs": [],
   "source": []
  }
 ],
 "metadata": {
  "kernelspec": {
   "display_name": "Python 3",
   "language": "python",
   "name": "python3"
  },
  "language_info": {
   "codemirror_mode": {
    "name": "ipython",
    "version": 3
   },
   "file_extension": ".py",
   "mimetype": "text/x-python",
   "name": "python",
   "nbconvert_exporter": "python",
   "pygments_lexer": "ipython3",
   "version": "3.7.4"
  }
 },
 "nbformat": 4,
 "nbformat_minor": 2
}
