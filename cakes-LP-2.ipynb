{
 "cells": [
  {
   "cell_type": "code",
   "execution_count": null,
   "metadata": {},
   "outputs": [],
   "source": []
  },
  {
   "cell_type": "code",
   "execution_count": 5,
   "metadata": {},
   "outputs": [
    {
     "name": "stdout",
     "output_type": "stream",
     "text": [
      "Encountered an attribute error\n"
     ]
    }
   ],
   "source": [
    "# LP:-\n",
    "\n",
    "# max cn + 0.5 vn\n",
    "#s.t\n",
    "#   4cn + vn <= 30\n",
    "#   20cn + 40vn <= 480\n",
    "#   cn, vn >=0\n",
    "\n",
    "\n",
    "import gurobipy as gp\n",
    "from gurobipy import GRB\n",
    "\n",
    "try:\n",
    "    #creating the model\n",
    "    m = gp.model(\"mip1\")\n",
    "    \n",
    "    #creating the variables\n",
    "    cn = m.addvar(vtype = GRB.CONTINUOUS, name = \"cn\")\n",
    "    vn = m.addvar(vtype = FRB.CONTINUOUS, name = \"vn\")\n",
    "    \n",
    "    #setting the objective\n",
    "    m.setObjective(cn + 0.5 * vn, GRB.MAXIMIZE)\n",
    "    \n",
    "    #adding constraints\n",
    "    m.addConstr(4 * cn + vn <= 30, \"c0\")\n",
    "    m.addConstr(20 * cn + 40 * vn <= 480, \"c1\")\n",
    "    m.addConstr(cn >= 0, \"c2\")\n",
    "    m.addConstr(vn >= 0, \"c3\")\n",
    "    \n",
    "    #optimizing the model\n",
    "    m.optimize()\n",
    "    \n",
    "    for v in m.getVars():\n",
    "        print('%s %g' % (v.varName, v.x))\n",
    "    print('obj %g' % (m.objVal))\n",
    "\n",
    "except gp.GurobiError as e:\n",
    "    print('Error code ' + str(e.errno) + ': ' + str(e))\n",
    "\n",
    "except AttributeError:\n",
    "    print('Encountered an attribute error')\n",
    "    \n",
    "    \n",
    "    "
   ]
  },
  {
   "cell_type": "code",
   "execution_count": null,
   "metadata": {},
   "outputs": [],
   "source": [
    "    "
   ]
  }
 ],
 "metadata": {
  "kernelspec": {
   "display_name": "Python 3",
   "language": "python",
   "name": "python3"
  },
  "language_info": {
   "codemirror_mode": {
    "name": "ipython",
    "version": 3
   },
   "file_extension": ".py",
   "mimetype": "text/x-python",
   "name": "python",
   "nbconvert_exporter": "python",
   "pygments_lexer": "ipython3",
   "version": "3.7.4"
  }
 },
 "nbformat": 4,
 "nbformat_minor": 2
}
